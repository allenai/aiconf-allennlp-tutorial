{
 "cells": [
  {
   "cell_type": "code",
   "execution_count": null,
   "metadata": {},
   "outputs": [],
   "source": [
    "from typing import Optional, Dict, List, Tuple\n",
    "import csv\n",
    "import random\n",
    "\n",
    "import spacy\n",
    "import torch\n",
    "import tqdm\n"
   ]
  },
  {
   "cell_type": "code",
   "execution_count": null,
   "metadata": {},
   "outputs": [],
   "source": [
    "# Load the spacy model\n",
    "nlp = spacy.load('en_core_web_sm')\n"
   ]
  },
  {
   "cell_type": "code",
   "execution_count": null,
   "metadata": {},
   "outputs": [],
   "source": [
    "# Just some type aliases to make things cleaner\n",
    "RawRow = List[str]\n",
    "ProcessedRow = Tuple[str, List[str]]\n"
   ]
  },
  {
   "cell_type": "code",
   "execution_count": null,
   "metadata": {},
   "outputs": [],
   "source": [
    "def process(row: RawRow) -> ProcessedRow:\n",
    "    \"\"\"\n",
    "    TODO: implement\n",
    "    row is [category, text]\n",
    "    want to return (category, list_of_tokens)\n",
    "    use spacy (\"nlp\") to tokenize text, and then\n",
    "    use token.text to get just the string tokens.\n",
    "    \"\"\"\n",
    "    pass\n"
   ]
  },
  {
   "cell_type": "code",
   "execution_count": null,
   "metadata": {},
   "outputs": [],
   "source": [
    "def load_data(filename: str) -> List[ProcessedRow]:\n",
    "    \"\"\"\n",
    "    TODO: implement\n",
    "    Read in the file, and use `process` on each line.\n",
    "    Make sure to use csv.reader!\n",
    "    \"\"\"\n",
    "    pass\n"
   ]
  },
  {
   "cell_type": "code",
   "execution_count": null,
   "metadata": {},
   "outputs": [],
   "source": [
    "# TODO: Load training data, validation data, and test data\n",
    "training_data = ...\n",
    "validation_data = ...\n",
    "test_data = ...\n"
   ]
  },
  {
   "cell_type": "code",
   "execution_count": null,
   "metadata": {},
   "outputs": [],
   "source": [
    "# TODO: construct mappings idx_to_word and word_to_idx\n",
    "# Hint: use a set to get unique words, then use `enumerate`\n",
    "# to get a mapping word <-> index\n",
    "idx_to_word = ...\n",
    "word_to_idx = ...\n"
   ]
  },
  {
   "cell_type": "code",
   "execution_count": null,
   "metadata": {},
   "outputs": [],
   "source": [
    "# TODO: construct mapping idx_to_label and label_to_idx\n",
    "idx_to_label = ...\n",
    "label_to_idx = ...\n"
   ]
  },
  {
   "cell_type": "code",
   "execution_count": null,
   "metadata": {},
   "outputs": [],
   "source": [
    "class Model(torch.nn.Module):\n",
    "    def __init__(self,\n",
    "                 word_to_idx: Dict[str, int],\n",
    "                 label_to_idx: Dict[str, int],\n",
    "                 embedding_dim: int = 100) -> None:\n",
    "        super().__init__()\n",
    "\n",
    "        # TODO: store passed in parameters\n",
    "\n",
    "        # TODO: create a torch.nn.Embedding layer.\n",
    "        #       need to specify num_embeddings and embedding_dim\n",
    "\n",
    "        # TODO: create a torch.nn.Linear layer\n",
    "        #       need to specify in_features and out_features\n",
    "\n",
    "        # TODO: create a loss function that's just torch.nn.CrossEntropyLoss\n",
    "\n",
    "    def forward(self,\n",
    "                tokens: List[str],\n",
    "                label: Optional[str] = None) -> Dict[str, torch.Tensor]:\n",
    "\n",
    "        # TODO: convert the tokens to a tensor of word indices\n",
    "\n",
    "        # TODO: use the embedding layer to embed the tokens\n",
    "\n",
    "        # TODO: take the mean of the embeddings along dimension 0 (sequence length)\n",
    "\n",
    "        # TODO: pass the encoding through the linear layer to get logits\n",
    "\n",
    "        if label is not None:\n",
    "            # TODO: find the corresponding label_id and stick it in a 1-D tensor\n",
    "            # TODO: use .unsqueeze(0) to add a batch dimension to the logits\n",
    "            # TODO: compute the loss\n",
    "            pass\n",
    "\n",
    "        # TODO: return a dict with the logits and (if we have it) the loss\n",
    "        pass\n"
   ]
  },
  {
   "cell_type": "code",
   "execution_count": null,
   "metadata": {},
   "outputs": [],
   "source": [
    "NUM_EPOCHS = 100\n",
    "\n",
    "# instantiate the model\n",
    "model = Model(word_to_idx, label_to_idx, 100)\n",
    "\n",
    "# instantiate an optimizer\n",
    "optimizer = torch.optim.Adagrad(model.parameters())\n"
   ]
  },
  {
   "cell_type": "code",
   "execution_count": null,
   "metadata": {},
   "outputs": [],
   "source": [
    "for epoch in range(NUM_EPOCHS):\n",
    "    # shuffle the training data\n",
    "    random.shuffle(training_data)\n",
    "\n",
    "    epoch_loss = 0.0\n",
    "    num_correct = 0\n",
    "    num_seen = 0\n",
    "\n",
    "    with tqdm.tqdm(training_data) as it:\n",
    "        # Set the model in train mode\n",
    "        model.train()\n",
    "\n",
    "        for label, text in it:\n",
    "            # TODO: zero out the gradients\n",
    "            # TODO: call the model on the inputs\n",
    "            # TODO: pull the loss out of the output\n",
    "            # TODO: add loss.item() to epoch_loss\n",
    "            # TODO: call .backward on the loss\n",
    "            # TODO: step the optimizer\n",
    "\n",
    "            # TODO: get the (actual) label_id and the predicted label_id\n",
    "            # hint: use torch.argmax for the second\n",
    "\n",
    "            # TODO: update num_seen and num_correct\n",
    "            # TODO: compute accuracy\n",
    "            # TODO: add accuracy to the tqdm description\n",
    "            pass\n",
    "\n",
    "    # Compute validation accuracy\n",
    "\n",
    "    # TODO: set the model to .eval() mode\n",
    "\n",
    "    # set num_correct and num_seen to 0\n",
    "    num_correct = 0\n",
    "    num_seen = 0\n",
    "\n",
    "    for label, text in tqdm.tqdm(validation_data):\n",
    "        # TODO: call the model on the inputs\n",
    "\n",
    "        # TODO: compute the actual label_id and the predicted label_id\n",
    "\n",
    "        # TODO: increment counters\n",
    "        pass\n",
    "\n",
    "    # print epoch, epoch loss, accuracy\n",
    "    print(epoch, epoch_loss, num_correct / num_seen)\n"
   ]
  },
  {
   "cell_type": "code",
   "execution_count": null,
   "metadata": {},
   "outputs": [],
   "source": [
    "# TODO: evaluate accuracy on test dataset\n"
   ]
  },
  {
   "cell_type": "code",
   "execution_count": null,
   "metadata": {},
   "outputs": [],
   "source": []
  }
 ],
 "metadata": {
  "kernelspec": {
   "display_name": "Python 3",
   "language": "python",
   "name": "python3"
  },
  "language_info": {
   "codemirror_mode": {
    "name": "ipython",
    "version": 3
   },
   "file_extension": ".py",
   "mimetype": "text/x-python",
   "name": "python",
   "nbconvert_exporter": "python",
   "pygments_lexer": "ipython3",
   "version": "3.7.3"
  }
 },
 "nbformat": 4,
 "nbformat_minor": 2
}
